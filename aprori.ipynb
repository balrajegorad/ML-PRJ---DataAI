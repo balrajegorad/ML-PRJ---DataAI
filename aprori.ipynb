{
 "cells": [
  {
   "cell_type": "code",
   "execution_count": 3,
   "metadata": {},
   "outputs": [
    {
     "ename": "ModuleNotFoundError",
     "evalue": "No module named 'mlxtend'",
     "output_type": "error",
     "traceback": [
      "\u001b[1;31m---------------------------------------------------------------------------\u001b[0m",
      "\u001b[1;31mModuleNotFoundError\u001b[0m                       Traceback (most recent call last)",
      "Cell \u001b[1;32mIn[3], line 2\u001b[0m\n\u001b[0;32m      1\u001b[0m \u001b[38;5;28;01mimport\u001b[39;00m \u001b[38;5;21;01mpandas\u001b[39;00m \u001b[38;5;28;01mas\u001b[39;00m \u001b[38;5;21;01mpd\u001b[39;00m\n\u001b[1;32m----> 2\u001b[0m \u001b[38;5;28;01mfrom\u001b[39;00m \u001b[38;5;21;01mmlxtend\u001b[39;00m\u001b[38;5;21;01m.\u001b[39;00m\u001b[38;5;21;01mfrequent_patterns\u001b[39;00m \u001b[38;5;28;01mimport\u001b[39;00m apriori, association_rules\n\u001b[0;32m      4\u001b[0m \u001b[38;5;66;03m# Step 1: Generate the Dataset\u001b[39;00m\n\u001b[0;32m      5\u001b[0m data \u001b[38;5;241m=\u001b[39m {\n\u001b[0;32m      6\u001b[0m     \u001b[38;5;124m'\u001b[39m\u001b[38;5;124mTransaction ID\u001b[39m\u001b[38;5;124m'\u001b[39m: [\u001b[38;5;241m1\u001b[39m, \u001b[38;5;241m2\u001b[39m, \u001b[38;5;241m3\u001b[39m, \u001b[38;5;241m4\u001b[39m, \u001b[38;5;241m5\u001b[39m],\n\u001b[0;32m      7\u001b[0m     \u001b[38;5;124m'\u001b[39m\u001b[38;5;124mItems Bought\u001b[39m\u001b[38;5;124m'\u001b[39m: [\n\u001b[1;32m   (...)\u001b[0m\n\u001b[0;32m     13\u001b[0m     ]\n\u001b[0;32m     14\u001b[0m }\n",
      "\u001b[1;31mModuleNotFoundError\u001b[0m: No module named 'mlxtend'"
     ]
    }
   ],
   "source": [
    "import pandas as pd\n",
    "from mlxtend.frequent_patterns import apriori, association_rules\n",
    "\n",
    "# Step 1: Generate the Dataset\n",
    "data = {\n",
    "    'Transaction ID': [1, 2, 3, 4, 5],\n",
    "    'Items Bought': [\n",
    "        ['Milk', 'Bread', 'Butter'],\n",
    "        ['Milk', 'Bread'],\n",
    "        ['Bread', 'Butter'],\n",
    "        ['Milk', 'Butter'],\n",
    "        ['Milk', 'Bread', 'Butter']\n",
    "    ]\n",
    "}\n",
    "\n",
    "# Convert the dataset into a one-hot encoded DataFrame\n",
    "# Create a DataFrame\n",
    "df = pd.DataFrame(data)\n",
    "print(\"df:\")\n",
    "print(df)\n",
    "\n",
    "# Create a one-hot encoded DataFrame\n",
    "# Use the explode function to transform the lists into rows\n",
    "df_exploded = df.explode('Items Bought')\n",
    "print(\"df_exploded:\")\n",
    "print(df_exploded)\n",
    "\n",
    "# One-hot encoding\n",
    "one_hot = pd.get_dummies(df_exploded['Items Bought'])\n",
    "one_hot = one_hot.groupby(df_exploded['Transaction ID']).sum()\n",
    "print(\"one_hot:\")\n",
    "print(one_hot)\n",
    "\n",
    "# Step 2: Implement the Apriori Algorithm\n",
    "# Set minimum support threshold\n",
    "min_support = 0.6\n",
    "\n",
    "# Apply the Apriori algorithm\n",
    "frequent_itemsets = apriori(one_hot, min_support=min_support, use_colnames=True)\n",
    "print(\"Frequent Itemsets:\")\n",
    "print(frequent_itemsets)\n",
    "\n",
    "# Generate association rules\n",
    "rules = association_rules(frequent_itemsets, metric=\"confidence\", min_threshold=0.5)\n",
    "print(\"\\nAssociation Rules:\")\n",
    "print(rules)\n"
   ]
  }
 ],
 "metadata": {
  "kernelspec": {
   "display_name": "base",
   "language": "python",
   "name": "python3"
  },
  "language_info": {
   "codemirror_mode": {
    "name": "ipython",
    "version": 3
   },
   "file_extension": ".py",
   "mimetype": "text/x-python",
   "name": "python",
   "nbconvert_exporter": "python",
   "pygments_lexer": "ipython3",
   "version": "3.11.7"
  }
 },
 "nbformat": 4,
 "nbformat_minor": 2
}
